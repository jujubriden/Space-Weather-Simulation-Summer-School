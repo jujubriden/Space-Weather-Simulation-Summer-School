{
 "cells": [
  {
   "cell_type": "markdown",
   "id": "a317f4c0",
   "metadata": {},
   "source": [
    "# E1: Generic Explicit Runge-Kutta Stepper"
   ]
  },
  {
   "cell_type": "code",
   "execution_count": null,
   "id": "46bd60e3",
   "metadata": {},
   "outputs": [],
   "source": [
    "from numpy.linalg import norm\n",
    "\n",
    "def explicit_RK_stepper(f,x,t,h,a,b,c):\n",
    "    \"\"\"\n",
    "        Implementation of generic explicit Runge-Kutta update for explicit ODEs\n",
    "        \n",
    "        inputs:\n",
    "            x - current state \n",
    "            t - current time\n",
    "            f - right-hand-side of the (explicit) ODE to be integrated (signature f(x,t))\n",
    "            h - step size \n",
    "            a - coefficients of Runge-Kutta method (organized as list-of-list (or vector-of-vector))\n",
    "            b - weights of Runge-Kutta method (list/vector)\n",
    "            c - nodes of Runge-Kutta method (including 0 as first node) (list/vector)\n",
    "\n",
    "        outputs: \n",
    "            x_hat - estimate of the state at time t+h\n",
    "    \"\"\"\n",
    "    \n",
    "    \n",
    "    return ... # please complete this function \n",
    "\n",
    "def integrate(f, x0, tspan, h, step):\n",
    "    \"\"\"\n",
    "        Generic integrator interface\n",
    "\n",
    "        inputs:\n",
    "            f     - rhs of ODE to be integrated (signature: dx/dt = f(x,t))\n",
    "            x0    - initial condition (numpy array)\n",
    "            tspan - integration horizon (t0, tf) (tuple)\n",
    "            h     - step size\n",
    "            step   - integrator with signature: \n",
    "                        step(f,x,t,h) returns state at time t+h \n",
    "                        - f rhs of ODE to be integrated\n",
    "                        - x current state\n",
    "                        - t current time \n",
    "                        - h stepsize\n",
    "\n",
    "        outputs: \n",
    "            ts - time points visited during integration (list)\n",
    "            xs - trajectory of the system (list of numpy arrays)\n",
    "    \"\"\"\n",
    "    t, tf = tspan\n",
    "    x = x0\n",
    "    trajectory = [x0]\n",
    "    ts = [t]\n",
    "    while t < tf:\n",
    "        h_eff = min(h, tf-t)\n",
    "        x = step(f,x,t,h_eff)\n",
    "        t = min(t+h_eff, tf)\n",
    "        trajectory.append(x)\n",
    "        ts.append(t)\n",
    "    return trajectory, ts"
   ]
  }
 ],
 "metadata": {
  "kernelspec": {
   "display_name": "Python 3 (ipykernel)",
   "language": "python",
   "name": "python3"
  },
  "language_info": {
   "codemirror_mode": {
    "name": "ipython",
    "version": 3
   },
   "file_extension": ".py",
   "mimetype": "text/x-python",
   "name": "python",
   "nbconvert_exporter": "python",
   "pygments_lexer": "ipython3",
   "version": "3.9.7"
  }
 },
 "nbformat": 4,
 "nbformat_minor": 5
}
